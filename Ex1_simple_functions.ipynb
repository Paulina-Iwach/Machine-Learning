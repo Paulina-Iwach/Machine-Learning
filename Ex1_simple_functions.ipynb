{
 "cells": [
  {
   "cell_type": "markdown",
   "id": "d9501f3e",
   "metadata": {},
   "source": [
    "Paulina Iwach-Kowalska, 254362"
   ]
  },
  {
   "cell_type": "markdown",
   "id": "2231b2ee",
   "metadata": {},
   "source": [
    "# Task 1"
   ]
  },
  {
   "cell_type": "code",
   "execution_count": 38,
   "id": "c5c049c1",
   "metadata": {},
   "outputs": [],
   "source": [
    "#!/usr/bin/env python3\n",
    "\n",
    "import numpy as np\n",
    "import pytest\n",
    "from sklearn.linear_model import LinearRegression\n",
    "\n",
    "class LinearRegr:\n",
    "    def fit(self, X, Y):\n",
    "        # input:\n",
    "        #  X = np.array, shape = (n, m)\n",
    "        #  Y = np.array, shape = (n)\n",
    "        # Finds theta minimising quadratic loss function L, using an explicit formula.\n",
    "        # Note: before applying the formula to X one should append to X a column with ones.\n",
    "        n, m = X.shape\n",
    "        X = np.column_stack((np.ones(n).reshape(n,1),X))\n",
    "        self.theta = np.linalg.inv(X.T @ X) @ X.T @ Y\n",
    "        return self\n",
    "    \n",
    "    def predict(self, X):\n",
    "        # input:\n",
    "        #  X = np.array, shape = (k, m)\n",
    "        # returns:\n",
    "        #  Y = wektor(f(X_1), ..., f(X_k))\n",
    "        n, m = X.shape\n",
    "        X = np.column_stack((np.ones(n).reshape(n,1), X))\n",
    "        Y = X @ self.theta\n",
    "        return Y\n",
    "\n",
    "\n",
    "def test_RegressionInOneDim():\n",
    "    X = np.array([1,3,2,5]).reshape((4,1))\n",
    "    Y = np.array([2,5, 3, 8])\n",
    "    a = np.array([1,2,10]).reshape((3,1))\n",
    "    expected = LinearRegression().fit(X, Y).predict(a)\n",
    "    actual = LinearRegr().fit(X, Y).predict(a)\n",
    "    print(expected)\n",
    "    print(actual)\n",
    "    assert list(actual) == pytest.approx(list(expected))\n",
    "\n",
    "def test_RegressionInThreeDim():\n",
    "    X = np.array([1,2,3,5,4,5,4,3,3,3,2,5]).reshape((4,3))\n",
    "    Y = np.array([2,5, 3, 8])\n",
    "    a = np.array([1,0,0, 0,1,0, 0,0,1, 2,5,7, -2,0,3]).reshape((5,3))\n",
    "    expected = LinearRegression().fit(X, Y).predict(a)\n",
    "    actual = LinearRegr().fit(X, Y).predict(a)\n",
    "    print(expected)\n",
    "    print(actual)\n",
    "    assert list(actual) == pytest.approx(list(expected))"
   ]
  },
  {
   "cell_type": "code",
   "execution_count": 39,
   "id": "8ae12ad9",
   "metadata": {},
   "outputs": [
    {
     "name": "stdout",
     "output_type": "stream",
     "text": [
      "[ 1.8         3.34285714 15.68571429]\n",
      "[ 1.8         3.34285714 15.68571429]\n",
      "[ 2.25 -1.75  2.75  2.    3.75]\n",
      "[ 2.25 -1.75  2.75  2.    3.75]\n"
     ]
    }
   ],
   "source": [
    "test_RegressionInOneDim()\n",
    "test_RegressionInThreeDim()"
   ]
  },
  {
   "cell_type": "markdown",
   "id": "670a457b",
   "metadata": {},
   "source": [
    "# Task 2"
   ]
  },
  {
   "attachments": {
    "image.png": {
     "image/png": "[encoded data removed]"
    }
   },
   "cell_type": "markdown",
   "id": "1c470a82",
   "metadata": {},
   "source": [
    "![image.png](attachment:image.png)"
   ]
  },
  {
   "cell_type": "markdown",
   "id": "f863c98a",
   "metadata": {},
   "source": [
    "\n",
    "$\\frac{\\partial L}{\\partial \\theta_j} = -2 \\sum_{i=1}^{n} x_{ij}(y_i - \\theta_0 - \\theta_1 x_{i1} - \\ldots - \\theta_p x_{ip}) + 2\\alpha \\theta_j=\\\\ =2 \\sum_{i=1}^{n} x_{ij}(-y_i + \\theta_0 + \\theta_1 x_{i1} + \\ldots + \\theta_p x_{ip}) + 2\\alpha \\theta_j =\\\\ = 2 \\sum_{i=1}^{n} x_{ij} \\cdot \\sum_{i=1}^{n}(-y_i + \\theta_0 + \\theta_1 x_{i1} + \\ldots + \\theta_p x_{ip}) + 2\\alpha \\theta_j$"
   ]
  },
  {
   "cell_type": "markdown",
   "id": "2daf5804",
   "metadata": {},
   "source": [
    "$2[(X \\text{@} \\Theta - Y) \\text{@} X] +2\\alpha\\Theta$"
   ]
  },
  {
   "cell_type": "markdown",
   "id": "a8def46e",
   "metadata": {},
   "source": [
    "c - learning rate"
   ]
  },
  {
   "cell_type": "code",
   "execution_count": 46,
   "id": "cf407ba8",
   "metadata": {},
   "outputs": [],
   "source": [
    "#!/usr/bin/env python3\n",
    "\n",
    "import numpy as np\n",
    "import pytest\n",
    "from sklearn.linear_model import Ridge\n",
    "\n",
    "class RidgeRegr:\n",
    "    def __init__(self, alpha = 0.0, m = 10**5, c=10**(-3)):\n",
    "        self.alpha = alpha\n",
    "        self.c = c\n",
    "        self.m = m\n",
    "        \n",
    "\n",
    "    def fit(self, X, Y):\n",
    "        # input:\n",
    "        #  X = np.array, shape = (n, m)\n",
    "        #  Y = np.array, shape = (n)\n",
    "        # Finds theta (approximately) minimising quadratic loss function L with Ridge penalty,\n",
    "        # using an iterative method.\n",
    "        n, m = X.shape\n",
    "        X = np.column_stack((np.ones(n).reshape(n,1), X))\n",
    "        self.theta = np.zeros((m+1))\n",
    "        alpha_vector = np.ones(m+1)*self.alpha\n",
    "        alpha_vector[0] = 0\n",
    "        for i in range(self.m):\n",
    "            gradient = 2 * ( ((X @ self.theta) - Y) @ X ) + 2 * alpha_vector * self.theta\n",
    "            self.theta = self.theta - self.c * gradient\n",
    "        \n",
    "        return self\n",
    "    \n",
    "    def predict(self, X):\n",
    "        # input:\n",
    "        #  X = np.array, shape = (k, m)\n",
    "        # returns:\n",
    "        #  Y = wektor(f(X_1), ..., f(X_k))\n",
    "        n, m = X.shape\n",
    "        X = np.column_stack((np.ones(n).reshape(n,1), X))\n",
    "        Y = X @ self.theta\n",
    "        return Y\n",
    "\n",
    "\n",
    "def test_RidgeRegressionInOneDim():\n",
    "    X = np.array([1,3,2,5]).reshape((4,1))\n",
    "    Y = np.array([2,5, 3, 8])\n",
    "    X_test = np.array([1,2,10]).reshape((3,1))\n",
    "    alpha = 0.3\n",
    "    expected = Ridge(alpha).fit(X, Y).predict(X_test)\n",
    "    actual = RidgeRegr(alpha).fit(X, Y).predict(X_test)\n",
    "    print(expected)\n",
    "    print(actual)\n",
    "    assert list(actual) == pytest.approx(list(expected), rel=1e-5)\n",
    "\n",
    "def test_RidgeRegressionInThreeDim():\n",
    "    X = np.array([1,2,3,5,4,5,4,3,3,3,2,5]).reshape((4,3))\n",
    "    Y = np.array([2,5, 3, 8])\n",
    "    X_test = np.array([1,0,0, 0,1,0, 0,0,1, 2,5,7, -2,0,3]).reshape((5,3))\n",
    "    alpha = 0.4\n",
    "    expected = Ridge(alpha).fit(X, Y).predict(X_test)\n",
    "    actual = RidgeRegr(alpha).fit(X, Y).predict(X_test)\n",
    "    print(expected)\n",
    "    print(actual)\n",
    "    assert list(actual) == pytest.approx(list(expected), rel=1e-3)\n",
    "    "
   ]
  },
  {
   "cell_type": "code",
   "execution_count": 47,
   "id": "6600656b",
   "metadata": {},
   "outputs": [
    {
     "name": "stdout",
     "output_type": "stream",
     "text": [
      "[ 1.88950276  3.38121547 15.31491713]\n",
      "[ 1.88950276  3.38121547 15.31491713]\n"
     ]
    }
   ],
   "source": [
    "test_RidgeRegressionInOneDim()"
   ]
  },
  {
   "cell_type": "code",
   "execution_count": 48,
   "id": "5f07765c",
   "metadata": {},
   "outputs": [
    {
     "name": "stdout",
     "output_type": "stream",
     "text": [
      "[ 0.54685378 -1.76188321  1.58691716  5.15527388  3.66704391]\n",
      "[ 0.54685378 -1.76188321  1.58691716  5.15527388  3.66704391]\n"
     ]
    }
   ],
   "source": [
    "test_RidgeRegressionInThreeDim()"
   ]
  },
  {
   "cell_type": "code",
   "execution_count": null,
   "id": "50e4f241",
   "metadata": {},
   "outputs": [],
   "source": []
  }
 ],
 "metadata": {
  "kernelspec": {
   "display_name": "Python 3",
   "language": "python",
   "name": "python3"
  },
  "language_info": {
   "codemirror_mode": {
    "name": "ipython",
    "version": 3
   },
   "file_extension": ".py",
   "mimetype": "text/x-python",
   "name": "python",
   "nbconvert_exporter": "python",
   "pygments_lexer": "ipython3",
   "version": "3.7.9"
  }
 },
 "nbformat": 4,
 "nbformat_minor": 5
}

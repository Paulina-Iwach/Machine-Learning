{
 "cells": [
  {
   "cell_type": "markdown",
   "id": "074ba431",
   "metadata": {},
   "source": [
    "Implementacja od zera - forward pass, back propagation, forward propagation\n",
    "wystarczą prawdopodobnie dwie warstwy\n",
    "Poziom skuteczności minimum 90 %(około)\n",
    "Online learning wystarczy jako proces uczenia\n",
    "\n",
    "kluczowe: dwie warstwy, dobrać parametry, pewnie w miarę proste, \n",
    "\n",
    "Na aktywność:\n",
    "-obiektowo, klasy itd + użytkownik podaje takie rzeczy jak liczbę neuronów itp\n",
    "-mini batch - podzielić zbiór na mniejsze paczki obserwacji jak potęgi dwójki albo brać po 100. Aktualizacja wag po całym mini batchu, ale gradient liczymy po każdym batchu. Dopiero na końcu aktualizacja wag"
   ]
  },
  {
   "cell_type": "markdown",
   "id": "c5b8b0b1",
   "metadata": {},
   "source": []
  }
 ],
 "metadata": {
  "kernelspec": {
   "display_name": "Python 3",
   "language": "python",
   "name": "python3"
  },
  "language_info": {
   "codemirror_mode": {
    "name": "ipython",
    "version": 3
   },
   "file_extension": ".py",
   "mimetype": "text/x-python",
   "name": "python",
   "nbconvert_exporter": "python",
   "pygments_lexer": "ipython3",
   "version": "3.7.9"
  }
 },
 "nbformat": 4,
 "nbformat_minor": 5
}
